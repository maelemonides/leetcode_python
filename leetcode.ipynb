{
  "nbformat": 4,
  "nbformat_minor": 0,
  "metadata": {
    "colab": {
      "provenance": [],
      "authorship_tag": "ABX9TyN0LPqdlXoWJeysyDU12DHG",
      "include_colab_link": true
    },
    "kernelspec": {
      "name": "python3",
      "display_name": "Python 3"
    },
    "language_info": {
      "name": "python"
    }
  },
  "cells": [
    {
      "cell_type": "markdown",
      "metadata": {
        "id": "view-in-github",
        "colab_type": "text"
      },
      "source": [
        "<a href=\"https://colab.research.google.com/github/maelemonides/leetcode_python/blob/main/leetcode.ipynb\" target=\"_parent\"><img src=\"https://colab.research.google.com/assets/colab-badge.svg\" alt=\"Open In Colab\"/></a>"
      ]
    },
    {
      "cell_type": "markdown",
      "source": [
        "Two Sum"
      ],
      "metadata": {
        "id": "bF1TDzv1VajH"
      }
    },
    {
      "cell_type": "code",
      "execution_count": null,
      "metadata": {
        "colab": {
          "base_uri": "https://localhost:8080/"
        },
        "id": "dlKpe7dQ5XW9",
        "outputId": "f443f3db-0f21-4a03-9128-24ddfa9818b8"
      },
      "outputs": [
        {
          "output_type": "stream",
          "name": "stdout",
          "text": [
            "7 ,2\n",
            "6 ,3\n"
          ]
        }
      ],
      "source": [
        "def twoSum(l, target):\n",
        "    a = {}\n",
        "\n",
        "    for i in range(len(l)):\n",
        "        diff = target - l[i]\n",
        "        b = 0\n",
        "        if diff in a.values():\n",
        "          print(f\"{l[i]} ,{diff}\")\n",
        "        a[i] = l[i]\n",
        "l = [2,7,3,6]\n",
        "target = 9\n",
        "\n",
        "twoSum(l, goal)\n",
        "\n",
        "#Complexity O(n)\n",
        "\n",
        "\n",
        "\n",
        "    \n",
        "    \n",
        "\n",
        "\n"
      ]
    },
    {
      "cell_type": "code",
      "source": [
        "def rotate(mat):\n",
        "      mat.reverse()\n",
        "      for i in range(len(mat)):\n",
        "          for j in range(i):\n",
        "              mat[i][j], mat[j][i] = mat[j][i], mat[i][j]\n",
        "      return mat\n",
        "\n",
        "matrix = [[5,1,9,11],[2,4,8,10],[13,3,6,7],[15,14,12,16]]\n",
        "rotate(matrix)\n",
        "\n",
        "#Complexity O(n)"
      ],
      "metadata": {
        "colab": {
          "base_uri": "https://localhost:8080/"
        },
        "id": "xDIVo6FzVdOG",
        "outputId": "ac97e6f1-51a3-456d-b420-7cd8c5084bf2"
      },
      "execution_count": null,
      "outputs": [
        {
          "output_type": "execute_result",
          "data": {
            "text/plain": [
              "[[15, 13, 2, 5], [14, 3, 4, 1], [12, 6, 8, 9], [16, 7, 10, 11]]"
            ]
          },
          "metadata": {},
          "execution_count": 42
        }
      ]
    }
  ]
}